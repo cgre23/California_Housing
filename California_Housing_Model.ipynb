{
 "cells": [
  {
   "cell_type": "code",
   "execution_count": 2,
   "id": "55a5df1d-ac8d-44c3-b830-e90d717a7e2a",
   "metadata": {},
   "outputs": [
    {
     "name": "stdout",
     "output_type": "stream",
     "text": [
      "/usr/local/bin/aws\n",
      "aws-cli/2.13.28 Python/3.11.6 Darwin/23.0.0 exe/x86_64 prompt/off\n",
      "Python 3.8.13\n",
      "Collecting scikit-learn==0.23\n",
      "  Downloading scikit_learn-0.23.0-cp38-cp38-macosx_10_9_x86_64.whl (7.5 MB)\n",
      "\u001b[2K     \u001b[38;2;114;156;31m━━━━━━━━━━━━━━━━━━━━━━━━━━━━━━━━━━━━━━━━\u001b[0m \u001b[32m7.5/7.5 MB\u001b[0m \u001b[31m8.8 MB/s\u001b[0m eta \u001b[36m0:00:00\u001b[0mm eta \u001b[36m0:00:01\u001b[0m[36m0:00:01\u001b[0m\n",
      "\u001b[?25hRequirement already satisfied: numpy>=1.13.3 in /Users/christiangrech/opt/anaconda3/lib/python3.8/site-packages (from scikit-learn==0.23) (1.23.2)\n",
      "Requirement already satisfied: scipy>=0.19.1 in /Users/christiangrech/opt/anaconda3/lib/python3.8/site-packages (from scikit-learn==0.23) (1.10.0)\n",
      "Requirement already satisfied: joblib>=0.11 in /Users/christiangrech/opt/anaconda3/lib/python3.8/site-packages (from scikit-learn==0.23) (1.2.0)\n",
      "Requirement already satisfied: threadpoolctl>=2.0.0 in /Users/christiangrech/opt/anaconda3/lib/python3.8/site-packages (from scikit-learn==0.23) (2.2.0)\n",
      "Installing collected packages: scikit-learn\n",
      "  Attempting uninstall: scikit-learn\n",
      "    Found existing installation: scikit-learn 1.3.2\n",
      "    Uninstalling scikit-learn-1.3.2:\n",
      "      Successfully uninstalled scikit-learn-1.3.2\n",
      "\u001b[31mERROR: pip's dependency resolver does not currently take into account all the packages that are installed. This behaviour is the source of the following dependency conflicts.\n",
      "deephyper 0.4.2 requires scikit-learn>=0.23.1, but you have scikit-learn 0.23.0 which is incompatible.\n",
      "pyldavis 3.4.0 requires scikit-learn>=1.0.0, but you have scikit-learn 0.23.0 which is incompatible.\u001b[0m\u001b[31m\n",
      "\u001b[0mSuccessfully installed scikit-learn-0.23.0\n"
     ]
    }
   ],
   "source": [
    "!which aws\n",
    "!aws --version\n",
    "!python --version\n",
    "!pip install scikit-learn==0.23"
   ]
  },
  {
   "cell_type": "code",
   "execution_count": 1,
   "id": "3be95579-1ed2-48c8-9d11-7c71af531fed",
   "metadata": {},
   "outputs": [],
   "source": [
    "import numpy as np\n",
    "import pandas as pd\n",
    "\n",
    "from sklearn.datasets import fetch_california_housing\n",
    "from sklearn.preprocessing import StandardScaler\n",
    "from sklearn.linear_model import RidgeCV, LinearRegression\n",
    "from sklearn.pipeline import make_pipeline\n",
    "from sklearn.model_selection import cross_validate\n",
    "import pickle\n",
    "california_housing = fetch_california_housing(as_frame=True)"
   ]
  },
  {
   "cell_type": "code",
   "execution_count": 1,
   "id": "94a3a230-52f0-4473-95b4-1064efb35de7",
   "metadata": {},
   "outputs": [
    {
     "data": {
      "text/plain": [
       "'1.3.2'"
      ]
     },
     "execution_count": 1,
     "metadata": {},
     "output_type": "execute_result"
    }
   ],
   "source": [
    "import sklearn\n",
    "sklearn.__version__"
   ]
  },
  {
   "cell_type": "code",
   "execution_count": 3,
   "id": "1ae9cc26-ce0f-4d69-878a-a335e0c2b8b5",
   "metadata": {},
   "outputs": [],
   "source": [
    "features_of_interest = [\"AveRooms\", \"HouseAge\", \"MedInc\"]"
   ]
  },
  {
   "cell_type": "code",
   "execution_count": 8,
   "id": "e7ca3dc3-cc40-4d4d-bb20-33202fbdeb12",
   "metadata": {},
   "outputs": [
    {
     "data": {
      "text/html": [
       "<div>\n",
       "<style scoped>\n",
       "    .dataframe tbody tr th:only-of-type {\n",
       "        vertical-align: middle;\n",
       "    }\n",
       "\n",
       "    .dataframe tbody tr th {\n",
       "        vertical-align: top;\n",
       "    }\n",
       "\n",
       "    .dataframe thead th {\n",
       "        text-align: right;\n",
       "    }\n",
       "</style>\n",
       "<table border=\"1\" class=\"dataframe\">\n",
       "  <thead>\n",
       "    <tr style=\"text-align: right;\">\n",
       "      <th></th>\n",
       "      <th>MedInc</th>\n",
       "      <th>HouseAge</th>\n",
       "      <th>AveRooms</th>\n",
       "      <th>AveBedrms</th>\n",
       "      <th>Population</th>\n",
       "      <th>AveOccup</th>\n",
       "      <th>Latitude</th>\n",
       "      <th>Longitude</th>\n",
       "      <th>MedHouseVal</th>\n",
       "    </tr>\n",
       "  </thead>\n",
       "  <tbody>\n",
       "    <tr>\n",
       "      <th>MedInc</th>\n",
       "      <td>1.000000</td>\n",
       "      <td>-0.119034</td>\n",
       "      <td>0.326895</td>\n",
       "      <td>-0.062040</td>\n",
       "      <td>0.004834</td>\n",
       "      <td>0.018766</td>\n",
       "      <td>-0.079809</td>\n",
       "      <td>-0.015176</td>\n",
       "      <td>0.688075</td>\n",
       "    </tr>\n",
       "    <tr>\n",
       "      <th>HouseAge</th>\n",
       "      <td>-0.119034</td>\n",
       "      <td>1.000000</td>\n",
       "      <td>-0.153277</td>\n",
       "      <td>-0.077747</td>\n",
       "      <td>-0.296244</td>\n",
       "      <td>0.013191</td>\n",
       "      <td>0.011173</td>\n",
       "      <td>-0.108197</td>\n",
       "      <td>0.105623</td>\n",
       "    </tr>\n",
       "    <tr>\n",
       "      <th>AveRooms</th>\n",
       "      <td>0.326895</td>\n",
       "      <td>-0.153277</td>\n",
       "      <td>1.000000</td>\n",
       "      <td>0.847621</td>\n",
       "      <td>-0.072213</td>\n",
       "      <td>-0.004852</td>\n",
       "      <td>0.106389</td>\n",
       "      <td>-0.027540</td>\n",
       "      <td>0.151948</td>\n",
       "    </tr>\n",
       "    <tr>\n",
       "      <th>AveBedrms</th>\n",
       "      <td>-0.062040</td>\n",
       "      <td>-0.077747</td>\n",
       "      <td>0.847621</td>\n",
       "      <td>1.000000</td>\n",
       "      <td>-0.066197</td>\n",
       "      <td>-0.006181</td>\n",
       "      <td>0.069721</td>\n",
       "      <td>0.013344</td>\n",
       "      <td>-0.046701</td>\n",
       "    </tr>\n",
       "    <tr>\n",
       "      <th>Population</th>\n",
       "      <td>0.004834</td>\n",
       "      <td>-0.296244</td>\n",
       "      <td>-0.072213</td>\n",
       "      <td>-0.066197</td>\n",
       "      <td>1.000000</td>\n",
       "      <td>0.069863</td>\n",
       "      <td>-0.108785</td>\n",
       "      <td>0.099773</td>\n",
       "      <td>-0.024650</td>\n",
       "    </tr>\n",
       "    <tr>\n",
       "      <th>AveOccup</th>\n",
       "      <td>0.018766</td>\n",
       "      <td>0.013191</td>\n",
       "      <td>-0.004852</td>\n",
       "      <td>-0.006181</td>\n",
       "      <td>0.069863</td>\n",
       "      <td>1.000000</td>\n",
       "      <td>0.002366</td>\n",
       "      <td>0.002476</td>\n",
       "      <td>-0.023737</td>\n",
       "    </tr>\n",
       "    <tr>\n",
       "      <th>Latitude</th>\n",
       "      <td>-0.079809</td>\n",
       "      <td>0.011173</td>\n",
       "      <td>0.106389</td>\n",
       "      <td>0.069721</td>\n",
       "      <td>-0.108785</td>\n",
       "      <td>0.002366</td>\n",
       "      <td>1.000000</td>\n",
       "      <td>-0.924664</td>\n",
       "      <td>-0.144160</td>\n",
       "    </tr>\n",
       "    <tr>\n",
       "      <th>Longitude</th>\n",
       "      <td>-0.015176</td>\n",
       "      <td>-0.108197</td>\n",
       "      <td>-0.027540</td>\n",
       "      <td>0.013344</td>\n",
       "      <td>0.099773</td>\n",
       "      <td>0.002476</td>\n",
       "      <td>-0.924664</td>\n",
       "      <td>1.000000</td>\n",
       "      <td>-0.045967</td>\n",
       "    </tr>\n",
       "    <tr>\n",
       "      <th>MedHouseVal</th>\n",
       "      <td>0.688075</td>\n",
       "      <td>0.105623</td>\n",
       "      <td>0.151948</td>\n",
       "      <td>-0.046701</td>\n",
       "      <td>-0.024650</td>\n",
       "      <td>-0.023737</td>\n",
       "      <td>-0.144160</td>\n",
       "      <td>-0.045967</td>\n",
       "      <td>1.000000</td>\n",
       "    </tr>\n",
       "  </tbody>\n",
       "</table>\n",
       "</div>"
      ],
      "text/plain": [
       "               MedInc  HouseAge  AveRooms  AveBedrms  Population  AveOccup  \\\n",
       "MedInc       1.000000 -0.119034  0.326895  -0.062040    0.004834  0.018766   \n",
       "HouseAge    -0.119034  1.000000 -0.153277  -0.077747   -0.296244  0.013191   \n",
       "AveRooms     0.326895 -0.153277  1.000000   0.847621   -0.072213 -0.004852   \n",
       "AveBedrms   -0.062040 -0.077747  0.847621   1.000000   -0.066197 -0.006181   \n",
       "Population   0.004834 -0.296244 -0.072213  -0.066197    1.000000  0.069863   \n",
       "AveOccup     0.018766  0.013191 -0.004852  -0.006181    0.069863  1.000000   \n",
       "Latitude    -0.079809  0.011173  0.106389   0.069721   -0.108785  0.002366   \n",
       "Longitude   -0.015176 -0.108197 -0.027540   0.013344    0.099773  0.002476   \n",
       "MedHouseVal  0.688075  0.105623  0.151948  -0.046701   -0.024650 -0.023737   \n",
       "\n",
       "             Latitude  Longitude  MedHouseVal  \n",
       "MedInc      -0.079809  -0.015176     0.688075  \n",
       "HouseAge     0.011173  -0.108197     0.105623  \n",
       "AveRooms     0.106389  -0.027540     0.151948  \n",
       "AveBedrms    0.069721   0.013344    -0.046701  \n",
       "Population  -0.108785   0.099773    -0.024650  \n",
       "AveOccup     0.002366   0.002476    -0.023737  \n",
       "Latitude     1.000000  -0.924664    -0.144160  \n",
       "Longitude   -0.924664   1.000000    -0.045967  \n",
       "MedHouseVal -0.144160  -0.045967     1.000000  "
      ]
     },
     "execution_count": 8,
     "metadata": {},
     "output_type": "execute_result"
    }
   ],
   "source": [
    "df = california_housing.frame\n",
    "df.corr()"
   ]
  },
  {
   "cell_type": "code",
   "execution_count": 10,
   "id": "8f5ebf6b-2d10-4ee6-b14f-f9996bd9b24a",
   "metadata": {},
   "outputs": [],
   "source": [
    "alphas = np.logspace(-2, 1, num=10)\n",
    "model_RCV = make_pipeline(StandardScaler(), RidgeCV(alphas=alphas))\n",
    "model_LR = make_pipeline(StandardScaler(), LinearRegression())\n",
    "model_RCV = RidgeCV(alphas=alphas)\n",
    "\n",
    "cv_results = cross_validate(\n",
    "    model_RCV,\n",
    "    california_housing.data,\n",
    "    california_housing.target,\n",
    "    return_estimator=True,\n",
    "    n_jobs=2,\n",
    "    return_train_score=True,\n",
    "    scoring=('r2', 'neg_mean_squared_error', 'neg_root_mean_squared_error'),\n",
    ")"
   ]
  },
  {
   "cell_type": "code",
   "execution_count": 11,
   "id": "34f98c06-6bd3-4a31-9bae-93ed2fa0b2af",
   "metadata": {},
   "outputs": [
    {
     "name": "stdout",
     "output_type": "stream",
     "text": [
      "R2 score: 0.553 ± 0.062\n",
      "MSE score: 0.558 ± 0.066\n",
      "RMSE score: 0.746 ± 0.044\n"
     ]
    }
   ],
   "source": [
    "r2score = cv_results[\"test_r2\"]\n",
    "MSEscore = cv_results[\"test_neg_mean_squared_error\"]\n",
    "RMSEscore = cv_results[\"test_neg_root_mean_squared_error\"]\n",
    "print(f\"R2 score: {r2score.mean():.3f} ± {r2score.std():.3f}\")\n",
    "print(f\"MSE score: {abs(MSEscore).mean():.3f} ± {MSEscore.std():.3f}\")\n",
    "print(f\"RMSE score: {abs(RMSEscore).mean():.3f} ± {RMSEscore.std():.3f}\")"
   ]
  },
  {
   "cell_type": "code",
   "execution_count": 12,
   "id": "ca7e91c3-efab-4eca-898f-473b5c139b4e",
   "metadata": {},
   "outputs": [
    {
     "name": "stdout",
     "output_type": "stream",
     "text": [
      "[ 4.36324459e-01  1.09163356e-02 -1.17209404e-01  7.93743716e-01\n",
      " -9.89437103e-06 -4.14761383e-03 -4.37243225e-01 -4.75119123e-01]\n",
      "[ 4.27137746e-01  9.74470589e-03 -8.46175617e-02  5.34704592e-01\n",
      " -8.92649450e-06 -3.16323624e-03 -4.16914476e-01 -4.33395578e-01]\n",
      "[ 4.34229725e-01  1.02616769e-02 -1.10486937e-01  6.24299276e-01\n",
      "  1.57264658e-05 -3.49231859e-03 -4.26600549e-01 -4.47936751e-01]\n",
      "[ 4.26309850e-01  6.30712353e-03 -8.58648141e-02  5.34184586e-01\n",
      " -1.43225079e-05 -3.33987706e-03 -4.09856693e-01 -3.92975692e-01]\n",
      "[ 4.46491698e-01  9.43405756e-03 -1.18443795e-01  6.97099028e-01\n",
      " -1.37612460e-06 -8.82312352e-03 -4.21454191e-01 -4.29277972e-01]\n"
     ]
    }
   ],
   "source": [
    "for model in cv_results['estimator']:\n",
    "    print(model.coef_)"
   ]
  },
  {
   "cell_type": "code",
   "execution_count": null,
   "id": "0054a676-1f5a-43d5-a385-a3cc4dd23456",
   "metadata": {},
   "outputs": [],
   "source": [
    "model.predict(np.array([[1, 2,3,4,5,6,7,8]]))"
   ]
  },
  {
   "cell_type": "code",
   "execution_count": null,
   "id": "df39a7f0-183a-4375-bcd9-b7f09cbf9801",
   "metadata": {},
   "outputs": [],
   "source": [
    "pickle.dump(model, open('cal_model.pkl', 'wb'))"
   ]
  },
  {
   "cell_type": "code",
   "execution_count": null,
   "id": "a4af823a-5db9-427a-9015-a1120ae13a6d",
   "metadata": {},
   "outputs": [],
   "source": []
  }
 ],
 "metadata": {
  "kernelspec": {
   "display_name": "Python 3 (ipykernel)",
   "language": "python",
   "name": "python3"
  },
  "language_info": {
   "codemirror_mode": {
    "name": "ipython",
    "version": 3
   },
   "file_extension": ".py",
   "mimetype": "text/x-python",
   "name": "python",
   "nbconvert_exporter": "python",
   "pygments_lexer": "ipython3",
   "version": "3.8.13"
  }
 },
 "nbformat": 4,
 "nbformat_minor": 5
}
