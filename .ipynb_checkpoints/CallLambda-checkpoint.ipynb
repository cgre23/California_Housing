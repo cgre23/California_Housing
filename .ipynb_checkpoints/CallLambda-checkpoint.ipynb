{
 "cells": [
  {
   "cell_type": "code",
   "execution_count": 6,
   "id": "9c15e5ad-9241-4300-9226-7ad381905ff4",
   "metadata": {},
   "outputs": [
    {
     "name": "stdout",
     "output_type": "stream",
     "text": [
      "Estimated price: \"4.17587815\"\n"
     ]
    }
   ],
   "source": [
    "import requests\n",
    "import json\n",
    "\n",
    "url = \"https://k5kexp5upatpmgmhnv5cszuuj40ayjbr.lambda-url.us-east-1.on.aws/\"\n",
    "\n",
    "# Input parameters\n",
    "headers = {\"MedInc\": 8.3252,\"HouseAge\": 45,\"AveRooms\": 6.984127,\"AveBedrms\": 1.02381,\"Population\": 322,\"AveOccup\": 2.555556,\"Latitude\": 37.88,\"Longitude\": -122.23}\n",
    "\n",
    "response = requests.post(url, json=headers)\n",
    "\n",
    "print('Estimated price:', response.text)"
   ]
  },
  {
   "cell_type": "code",
   "execution_count": null,
   "id": "6aa18815-bd91-4730-aabd-417c49bf9b6a",
   "metadata": {},
   "outputs": [],
   "source": []
  }
 ],
 "metadata": {
  "kernelspec": {
   "display_name": "Python 3 (ipykernel)",
   "language": "python",
   "name": "python3"
  },
  "language_info": {
   "codemirror_mode": {
    "name": "ipython",
    "version": 3
   },
   "file_extension": ".py",
   "mimetype": "text/x-python",
   "name": "python",
   "nbconvert_exporter": "python",
   "pygments_lexer": "ipython3",
   "version": "3.8.13"
  }
 },
 "nbformat": 4,
 "nbformat_minor": 5
}
